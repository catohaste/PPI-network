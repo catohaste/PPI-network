{
 "cells": [
  {
   "cell_type": "markdown",
   "metadata": {},
   "source": [
    "# PPI-network\n",
    "\n",
    "This code was developed to find driver genes using a network-based approach on PPI (protein-protein interaction) data from the STRING database. Genes associated with bladder cancer were used as seed genes and provide a starting point for the analysis."
   ]
  },
  {
   "cell_type": "markdown",
   "metadata": {},
   "source": [
    "### Downloading the PPI network\n",
    "\n",
    "Firstly, the PPI network must be downloaded from the STRING database.\n",
    "\n",
    "The data is then saved as a `networkx` graph."
   ]
  },
  {
   "cell_type": "code",
   "execution_count": 24,
   "metadata": {},
   "outputs": [],
   "source": [
    "import requests, zlib\n",
    "\n",
    "# download the file\n",
    "zip_file_url = 'https://stringdb-static.org/download/protein.links.v10.5/9606.protein.links.v10.5.txt.gz'\n",
    "STRING_response = requests.get(zip_file_url)\n",
    "\n",
    "# decompress the file. ('data' is a string.)\n",
    "data = zlib.decompress(STRING_response.content, zlib.MAX_WBITS|32)\n",
    "\n",
    "\n",
    "# import csv\n",
    "# >>> with open('eggs.csv', 'rb') as csvfile:\n",
    "# ...     protein_writer = csv.writer(z, delimiter='\\t')\n",
    "# ...     for row in protein_reader:\n",
    "# ...         print ', '.join(row)\n",
    "\n",
    "# import csv\n",
    "# with open('eggs.csv', 'wb') as csvfile:\n",
    "#     spamwriter = csv.writer(csvfile, delimiter=' ',\n",
    "#                             quotechar='|', quoting=csv.QUOTE_MINIMAL)\n",
    "#     spamwriter.writerow(['Spam'] * 5 + ['Baked Beans'])\n",
    "#     spamwriter.writerow(['Spam', 'Lovely Spam', 'Wonderful Spam'])"
   ]
  },
  {
   "cell_type": "code",
   "execution_count": null,
   "metadata": {},
   "outputs": [],
   "source": []
  },
  {
   "cell_type": "code",
   "execution_count": 1,
   "metadata": {
    "scrolled": true
   },
   "outputs": [],
   "source": [
    "import DIAMOnD\n",
    "\n",
    "input_list = ['dummy_sys_argv','','seed_genes.tsv',160]"
   ]
  },
  {
   "cell_type": "code",
   "execution_count": null,
   "metadata": {},
   "outputs": [],
   "source": []
  },
  {
   "cell_type": "code",
   "execution_count": null,
   "metadata": {},
   "outputs": [],
   "source": []
  },
  {
   "cell_type": "code",
   "execution_count": null,
   "metadata": {},
   "outputs": [],
   "source": []
  }
 ],
 "metadata": {
  "kernelspec": {
   "display_name": "PPI-network",
   "language": "python",
   "name": "ppi-network"
  },
  "language_info": {
   "codemirror_mode": {
    "name": "ipython",
    "version": 2
   },
   "file_extension": ".py",
   "mimetype": "text/x-python",
   "name": "python",
   "nbconvert_exporter": "python",
   "pygments_lexer": "ipython2",
   "version": "2.7.13"
  }
 },
 "nbformat": 4,
 "nbformat_minor": 2
}

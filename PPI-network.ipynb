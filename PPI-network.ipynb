{
 "cells": [
  {
   "cell_type": "markdown",
   "metadata": {},
   "source": [
    "# PPI-network\n",
    "\n",
    "This code was developed to find driver genes using a network-based approach on PPI (protein-protein interaction) data from the STRING database. Genes associated with bladder cancer were used as seed genes and provide a starting point for the analysis."
   ]
  },
  {
   "cell_type": "markdown",
   "metadata": {},
   "source": [
    "### Downloading the PPI network\n",
    "\n",
    "Firstly, the PPI network must be downloaded from the STRING database.\n",
    "\n",
    "The data is then saved as a `networkx` graph."
   ]
  },
  {
   "cell_type": "code",
   "execution_count": 1,
   "metadata": {},
   "outputs": [],
   "source": [
    "import requests, zlib\n",
    "\n",
    "# download the file\n",
    "zip_file_url = 'https://stringdb-static.org/download/protein.links.v10.5/9606.protein.links.v10.5.txt.gz'\n",
    "STRING_response = requests.get(zip_file_url)\n",
    "\n",
    "# decompress the file. ('data' is a string.)\n",
    "data = zlib.decompress(STRING_response.content, zlib.MAX_WBITS|32)\n"
   ]
  },
  {
   "cell_type": "markdown",
   "metadata": {},
   "source": [
    "### Processing the network data\n",
    "\n",
    "The data is then processed. This means creating a `networkx` `Graph`, and using each line as an edge. Each of the first two 'words' of each edge represent the edge's nodes."
   ]
  },
  {
   "cell_type": "code",
   "execution_count": 2,
   "metadata": {},
   "outputs": [
    {
     "name": "stdout",
     "output_type": "stream",
     "text": [
      "5676528\n",
      "19576\n"
     ]
    }
   ],
   "source": [
    "import networkx as nx\n",
    "\n",
    "data_processed = data.split('\\n')\n",
    "del data_processed[0]\n",
    "del data_processed[-1]\n",
    "\n",
    "G = nx.Graph()\n",
    "for item in data_processed:\n",
    "    nodes = item.split(' ')\n",
    "    G.add_edge(nodes[0],nodes[1],weight=int(nodes[2]))\n",
    "\n",
    "print G.number_of_edges()\n",
    "print G.number_of_nodes()"
   ]
  },
  {
   "cell_type": "markdown",
   "metadata": {},
   "source": [
    "### Pruning the network\n",
    "#### Remove all unnconnected nodes"
   ]
  },
  {
   "cell_type": "code",
   "execution_count": 3,
   "metadata": {},
   "outputs": [
    {
     "name": "stdout",
     "output_type": "stream",
     "text": [
      "False\n",
      "2\n",
      "2\n",
      "19574\n"
     ]
    }
   ],
   "source": [
    "largest_cc = max(nx.connected_components(G), key=len)\n",
    "\n",
    "to_delete_unnconnected = []\n",
    "for key in G:\n",
    "    if key not in largest_cc:\n",
    "        to_delete_unnconnected.append(key)\n",
    "\n",
    "for node in to_delete_unnconnected:\n",
    "    G.remove_node(node)\n",
    "    \n",
    "print(G.number_of_nodes())"
   ]
  },
  {
   "cell_type": "markdown",
   "metadata": {},
   "source": [
    "#### Remove low confidence edges"
   ]
  },
  {
   "cell_type": "code",
   "execution_count": 7,
   "metadata": {},
   "outputs": [
    {
     "name": "stdout",
     "output_type": "stream",
     "text": [
      "18836\n",
      "792900\n"
     ]
    }
   ],
   "source": [
    "to_delete_edges = []\n",
    "for edge in G.edges():sds\n",
    "    if G.get_edge_data(*edge)['weight'] < 400:\n",
    "        to_delete_edges.append(edge)\n",
    "\n",
    "for item in to_delete_edges:\n",
    "    if G.has_edge(*item):\n",
    "        G.remove_edge(*item)\n",
    "\n",
    "to_delete_nodes = []\n",
    "for key in G:\n",
    "    if len(G[key])==0:\n",
    "        to_delete_nodes.append(key)\n",
    "        \n",
    "for item in to_delete_nodes:\n",
    "    G.remove_node(item)\n",
    "    \n",
    "print(G.number_of_nodes())\n",
    "print(G.number_of_edges())\n"
   ]
  },
  {
   "cell_type": "markdown",
   "metadata": {},
   "source": [
    "#### Remove nodes with no edges"
   ]
  },
  {
   "cell_type": "code",
   "execution_count": 26,
   "metadata": {},
   "outputs": [
    {
     "name": "stdout",
     "output_type": "stream",
     "text": [
      "0\n"
     ]
    }
   ],
   "source": [
    "to_delete_no_edges = []\n",
    "for key in G:\n",
    "    if len(G[key]) == 0:\n",
    "        to_delete_no_edges.append(key)\n",
    "        \n",
    "print(len(to_delete_no_edges))"
   ]
  },
  {
   "cell_type": "markdown",
   "metadata": {},
   "source": [
    "### Extend the seed genes using DIAMOnD"
   ]
  },
  {
   "cell_type": "markdown",
   "metadata": {},
   "source": [
    "#### Import the seed genes"
   ]
  },
  {
   "cell_type": "code",
   "execution_count": 27,
   "metadata": {},
   "outputs": [
    {
     "name": "stdout",
     "output_type": "stream",
     "text": [
      "40\n"
     ]
    }
   ],
   "source": [
    "seed_file = 'seed_genes.tsv'\n",
    "seed_genes = set()\n",
    "for line in open(seed_file,'r'):\n",
    "    # the first column in the line will be interpreted as a seed gene:\n",
    "    line_data = line.strip().split('\\t')\n",
    "    seed_gene = line_data[0]\n",
    "    seed_genes.add(seed_gene)\n",
    "    \n",
    "print len(seed_genes)"
   ]
  },
  {
   "cell_type": "markdown",
   "metadata": {},
   "source": [
    "#### Ensure all the seed genes are in the network"
   ]
  },
  {
   "cell_type": "code",
   "execution_count": 31,
   "metadata": {},
   "outputs": [
    {
     "name": "stdout",
     "output_type": "stream",
     "text": [
      "0\n"
     ]
    }
   ],
   "source": [
    "all_genes_in_network = set(G.nodes())\n",
    "seed_genes = set(seed_genes)\n",
    "disease_genes = seed_genes & all_genes_in_network\n",
    "\n",
    "if len(disease_genes) != len(seed_genes):\n",
    "    print \"DIAMOnD(): ignoring %s of %s seed genes that are not in the network\" %(\n",
    "        len(seed_genes - all_genes_in_network), len(seed_genes))\n",
    "    \n",
    "print len(disease_genes) - len(seed_genes)"
   ]
  },
  {
   "cell_type": "markdown",
   "metadata": {},
   "source": [
    "#### Run DIAMOnD"
   ]
  },
  {
   "cell_type": "code",
   "execution_count": 41,
   "metadata": {},
   "outputs": [
    {
     "name": "stdout",
     "output_type": "stream",
     "text": [
      "200\n"
     ]
    }
   ],
   "source": [
    "import DIAMOnD\n",
    "\n",
    "max_number_of_added_nodes = 160\n",
    "alpha = 1\n",
    "\n",
    "added_nodes = DIAMOnD.diamond_iteration_of_first_X_nodes(G,disease_genes,max_number_of_added_nodes,alpha)\n",
    "added_nodes = [node[0] for node in added_nodes]\n",
    "\n",
    "ext_seed_genes = added_nodes + list(seed_genes)\n",
    "print len(ext_seed_genes)"
   ]
  },
  {
   "cell_type": "code",
   "execution_count": null,
   "metadata": {
    "scrolled": true
   },
   "outputs": [],
   "source": []
  },
  {
   "cell_type": "code",
   "execution_count": null,
   "metadata": {},
   "outputs": [],
   "source": []
  },
  {
   "cell_type": "code",
   "execution_count": 23,
   "metadata": {},
   "outputs": [
    {
     "name": "stdout",
     "output_type": "stream",
     "text": [
      "9606.ENSP00000395733\n",
      "<type 'str'>\n"
     ]
    }
   ],
   "source": [
    "counter = 0\n",
    "for key in G:\n",
    "    if counter is 0:\n",
    "        print key\n",
    "        print type(key)\n",
    "    counter = counter + 1"
   ]
  },
  {
   "cell_type": "code",
   "execution_count": 25,
   "metadata": {},
   "outputs": [
    {
     "ename": "TypeError",
     "evalue": "unhashable type",
     "output_type": "error",
     "traceback": [
      "\u001b[0;31m---------------------------------------------------------------------------\u001b[0m",
      "\u001b[0;31mTypeError\u001b[0m                                 Traceback (most recent call last)",
      "\u001b[0;32m<ipython-input-25-32851ac62a8f>\u001b[0m in \u001b[0;36m<module>\u001b[0;34m()\u001b[0m\n\u001b[0;32m----> 1\u001b[0;31m \u001b[0mG\u001b[0m\u001b[0;34m[\u001b[0m\u001b[0;34m'9606.ENSP00000395733'\u001b[0m\u001b[0;34m]\u001b[0m\u001b[0;34m[\u001b[0m\u001b[0;34m:\u001b[0m\u001b[0;34m]\u001b[0m\u001b[0;34m[\u001b[0m\u001b[0mweight\u001b[0m \u001b[0;34m]\u001b[0m\u001b[0;34m\u001b[0m\u001b[0m\n\u001b[0m",
      "\u001b[0;32m/Users/clhastings/.virtualenvs/PPI-network/lib/python2.7/site-packages/networkx/classes/coreviews.pyc\u001b[0m in \u001b[0;36m__getitem__\u001b[0;34m(self, key)\u001b[0m\n\u001b[1;32m     53\u001b[0m \u001b[0;34m\u001b[0m\u001b[0m\n\u001b[1;32m     54\u001b[0m     \u001b[0;32mdef\u001b[0m \u001b[0m__getitem__\u001b[0m\u001b[0;34m(\u001b[0m\u001b[0mself\u001b[0m\u001b[0;34m,\u001b[0m \u001b[0mkey\u001b[0m\u001b[0;34m)\u001b[0m\u001b[0;34m:\u001b[0m\u001b[0;34m\u001b[0m\u001b[0m\n\u001b[0;32m---> 55\u001b[0;31m         \u001b[0;32mreturn\u001b[0m \u001b[0mself\u001b[0m\u001b[0;34m.\u001b[0m\u001b[0m_atlas\u001b[0m\u001b[0;34m[\u001b[0m\u001b[0mkey\u001b[0m\u001b[0;34m]\u001b[0m\u001b[0;34m\u001b[0m\u001b[0m\n\u001b[0m\u001b[1;32m     56\u001b[0m \u001b[0;34m\u001b[0m\u001b[0m\n\u001b[1;32m     57\u001b[0m     \u001b[0;32mdef\u001b[0m \u001b[0mcopy\u001b[0m\u001b[0;34m(\u001b[0m\u001b[0mself\u001b[0m\u001b[0;34m)\u001b[0m\u001b[0;34m:\u001b[0m\u001b[0;34m\u001b[0m\u001b[0m\n",
      "\u001b[0;31mTypeError\u001b[0m: unhashable type"
     ]
    }
   ],
   "source": [
    "G['9606.ENSP00000395733'][:][weight ]"
   ]
  },
  {
   "cell_type": "code",
   "execution_count": null,
   "metadata": {},
   "outputs": [],
   "source": [
    "counter = 0\n",
    "for item in genes:\n",
    "    if G.has_node(item):\n",
    "        counter += 1\n",
    "        \n",
    "print(counter)"
   ]
  },
  {
   "cell_type": "code",
   "execution_count": 15,
   "metadata": {},
   "outputs": [
    {
     "name": "stdout",
     "output_type": "stream",
     "text": [
      "('9606.ENSP00000395733', '9606.ENSP00000332454')\n",
      "509\n"
     ]
    }
   ],
   "source": [
    "counter = 0\n",
    "for edge in G.edges():\n",
    "    if counter is 0:\n",
    "        print edge\n",
    "    counter = counter + 1\n",
    "    \n",
    "print G.edges['9606.ENSP00000395733','9606.ENSP00000332454']['weight']"
   ]
  },
  {
   "cell_type": "code",
   "execution_count": null,
   "metadata": {},
   "outputs": [],
   "source": []
  },
  {
   "cell_type": "code",
   "execution_count": null,
   "metadata": {},
   "outputs": [],
   "source": []
  }
 ],
 "metadata": {
  "kernelspec": {
   "display_name": "PPI-network",
   "language": "python",
   "name": "ppi-network"
  },
  "language_info": {
   "codemirror_mode": {
    "name": "ipython",
    "version": 2
   },
   "file_extension": ".py",
   "mimetype": "text/x-python",
   "name": "python",
   "nbconvert_exporter": "python",
   "pygments_lexer": "ipython2",
   "version": "2.7.13"
  }
 },
 "nbformat": 4,
 "nbformat_minor": 2
}

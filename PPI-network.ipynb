{
 "cells": [
  {
   "cell_type": "markdown",
   "metadata": {},
   "source": [
    "# PPI-network\n",
    "\n",
    "This code was developed to find driver genes using a network-based approach on PPI (protein-protein interaction) data from the STRING database. Genes associated with bladder cancer were used as seed genes and provide a starting point for the analysis."
   ]
  },
  {
   "cell_type": "markdown",
   "metadata": {},
   "source": [
    "### Downloading the PPI network\n",
    "\n",
    "Firstly, the PPI network must be downloaded from the STRING database.\n",
    "\n",
    "The data is then saved as a `networkx` graph."
   ]
  },
  {
   "cell_type": "code",
   "execution_count": 2,
   "metadata": {},
   "outputs": [],
   "source": [
    "import requests, zlib\n",
    "\n",
    "# download the file\n",
    "zip_file_url = 'https://stringdb-static.org/download/protein.links.v10.5/9606.protein.links.v10.5.txt.gz'\n",
    "STRING_response = requests.get(zip_file_url)\n",
    "\n",
    "# decompress the file. ('data' is a string.)\n",
    "data = zlib.decompress(STRING_response.content, zlib.MAX_WBITS|32)\n"
   ]
  },
  {
   "cell_type": "markdown",
   "metadata": {},
   "source": [
    "### Processing the network data\n",
    "\n",
    "The data is then processed. This means creating a `networkx` `Graph`, and using each line as an edge. Each of the first two 'words' of each edge represent the edge's nodes."
   ]
  },
  {
   "cell_type": "code",
   "execution_count": 30,
   "metadata": {},
   "outputs": [
    {
     "name": "stdout",
     "output_type": "stream",
     "text": [
      "5676528\n",
      "19576\n"
     ]
    }
   ],
   "source": [
    "import networkx as nx\n",
    "\n",
    "data_processed = data.split('\\n')\n",
    "del data_processed[0]\n",
    "del data_processed[-1]\n",
    "\n",
    "G = nx.Graph()\n",
    "for item in data_processed:\n",
    "    nodes = item.split(' ')\n",
    "    G.add_edge(nodes[0],nodes[1],weight=int(nodes[2]))\n",
    "\n",
    "print G.number_of_edges()\n",
    "print G.number_of_nodes()"
   ]
  },
  {
   "cell_type": "markdown",
   "metadata": {},
   "source": [
    "### Pruning the network\n",
    "#### Remove all unnconnected nodes"
   ]
  },
  {
   "cell_type": "code",
   "execution_count": 31,
   "metadata": {},
   "outputs": [
    {
     "name": "stdout",
     "output_type": "stream",
     "text": [
      "False\n",
      "2\n",
      "19574\n",
      "2\n",
      "19574\n"
     ]
    }
   ],
   "source": [
    "print(nx.is_connected(G))\n",
    "print(nx.number_connected_components(G))\n",
    "\n",
    "largest_cc = max(nx.connected_components(G), key=len)\n",
    "print(len(largest_cc))\n",
    "\n",
    "to_delete_unnconnected = []\n",
    "for key in G:\n",
    "    if key not in largest_cc:\n",
    "        to_delete_unnconnected.append(key)\n",
    "        \n",
    "print(len(to_delete_unnconnected))\n",
    "\n",
    "for node in to_delete_unnconnected:\n",
    "    G.remove_node(node)\n",
    "    \n",
    "print(G.number_of_nodes())"
   ]
  },
  {
   "cell_type": "markdown",
   "metadata": {},
   "source": [
    "#### Remove low confidence edges"
   ]
  },
  {
   "cell_type": "code",
   "execution_count": null,
   "metadata": {},
   "outputs": [],
   "source": [
    "# BEFORE\n",
    "\n",
    "print(net_links.number_of_nodes())\n",
    "print(net_links.number_of_edges(),'\\n')\n",
    "\n",
    "\n",
    "# DELETE EDGES AND NODES\n",
    "\n",
    "to_delete_edges = []            \n",
    "for edge in net_links.edges():            \n",
    "    if net_links.get_edge_data(*edge)['weight'] < 400:\n",
    "        to_delete_edges.append(edge)\n",
    "\n",
    "for item in to_delete_edges:\n",
    "    if net_links.has_edge(*item):\n",
    "        net_links.remove_edge(*item)\n",
    "\n",
    "to_delete_nodes = []\n",
    "for key in net_links:\n",
    "    if len(net_links[key])==0:\n",
    "        to_delete_nodes.append(key)\n",
    "        \n",
    "for item in to_delete_nodes:\n",
    "    net_links.remove_node(item)\n",
    "    \n",
    "\n",
    "# AFTER\n",
    "\n",
    "counter = 0\n",
    "for item in genes:\n",
    "    if net_links.has_node(item):\n",
    "        counter += 1\n",
    "        \n",
    "print(counter)\n",
    "\n",
    "counter = 0\n",
    "for item in ext_genes:\n",
    "    if net_links.has_node(item):\n",
    "        counter += 1\n",
    "\n",
    "print(counter)\n",
    "\n",
    "print(net_links.number_of_nodes())\n",
    "print(net_links.number_of_edges(),'\\n')"
   ]
  },
  {
   "cell_type": "code",
   "execution_count": 26,
   "metadata": {},
   "outputs": [
    {
     "name": "stdout",
     "output_type": "stream",
     "text": [
      "40\n"
     ]
    }
   ],
   "source": [
    "seed_file = 'seed_genes.tsv'\n",
    "seed_genes = set()\n",
    "for line in open(seed_file,'r'):\n",
    "    # the first column in the line will be interpreted as a seed gene:\n",
    "    line_data = line.strip().split('\\t')\n",
    "    seed_gene = line_data[0]\n",
    "    seed_genes.add(seed_gene)\n",
    "    \n",
    "print len(seed_genes)"
   ]
  },
  {
   "cell_type": "code",
   "execution_count": 1,
   "metadata": {
    "scrolled": true
   },
   "outputs": [],
   "source": [
    "import DIAMOnD\n",
    "\n",
    "input_list = ['dummy_sys_argv','','seed_genes.tsv',160]"
   ]
  },
  {
   "cell_type": "code",
   "execution_count": 15,
   "metadata": {},
   "outputs": [
    {
     "data": {
      "text/plain": [
       "'9606.ENSP00000263431'"
      ]
     },
     "execution_count": 15,
     "metadata": {},
     "output_type": "execute_result"
    }
   ],
   "source": [
    "data_processed[0].split(' ')[1]"
   ]
  },
  {
   "cell_type": "code",
   "execution_count": null,
   "metadata": {},
   "outputs": [],
   "source": []
  },
  {
   "cell_type": "code",
   "execution_count": null,
   "metadata": {},
   "outputs": [],
   "source": []
  }
 ],
 "metadata": {
  "kernelspec": {
   "display_name": "PPI-network",
   "language": "python",
   "name": "ppi-network"
  },
  "language_info": {
   "codemirror_mode": {
    "name": "ipython",
    "version": 2
   },
   "file_extension": ".py",
   "mimetype": "text/x-python",
   "name": "python",
   "nbconvert_exporter": "python",
   "pygments_lexer": "ipython2",
   "version": "2.7.13"
  }
 },
 "nbformat": 4,
 "nbformat_minor": 2
}

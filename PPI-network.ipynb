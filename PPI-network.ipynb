{
 "cells": [
  {
   "cell_type": "markdown",
   "metadata": {},
   "source": [
    "# PPI-network\n",
    "\n",
    "This code was developed to find driver genes using a network-based approach on PPI (protein-protein interaction) data from the STRING database. Genes associated with bladder cancer were used as seed genes and provide a starting point for the analysis."
   ]
  },
  {
   "cell_type": "markdown",
   "metadata": {},
   "source": [
    "## Downloading the PPI network\n",
    "\n",
    "Firstly, the PPI network must be downloaded from the STRING database.\n",
    "\n",
    "The data is then saved as a `networkx` graph."
   ]
  },
  {
   "cell_type": "code",
   "execution_count": 1,
   "metadata": {},
   "outputs": [],
   "source": [
    "import requests, zlib\n",
    "\n",
    "# download the file\n",
    "zip_file_url = 'https://stringdb-static.org/download/protein.links.v10.5/9606.protein.links.v10.5.txt.gz'\n",
    "STRING_response = requests.get(zip_file_url)\n",
    "\n",
    "# decompress the file. ('data' is a string.)\n",
    "data = zlib.decompress(STRING_response.content, zlib.MAX_WBITS|32)\n"
   ]
  },
  {
   "cell_type": "markdown",
   "metadata": {},
   "source": [
    "## Processing the network data\n",
    "\n",
    "The data is then processed. This means creating a `networkx` `Graph`, and using each line as an edge. Each of the first two 'words' of each edge represent the edge's nodes."
   ]
  },
  {
   "cell_type": "code",
   "execution_count": 9,
   "metadata": {},
   "outputs": [
    {
     "name": "stdout",
     "output_type": "stream",
     "text": [
      "5676528\n",
      "19576\n"
     ]
    }
   ],
   "source": [
    "import networkx as nx\n",
    "\n",
    "data_processed = data.split('\\n')\n",
    "del data_processed[0]\n",
    "del data_processed[-1]\n",
    "\n",
    "G = nx.Graph()\n",
    "for item in data_processed:\n",
    "    nodes = item.split(' ')\n",
    "    G.add_edge(nodes[0],nodes[1],weight=int(nodes[2]))\n",
    "\n",
    "print G.number_of_edges()\n",
    "print G.number_of_nodes()"
   ]
  },
  {
   "cell_type": "markdown",
   "metadata": {},
   "source": [
    "## Pruning the network"
   ]
  },
  {
   "cell_type": "markdown",
   "metadata": {},
   "source": [
    "#### Remove low confidence edges"
   ]
  },
  {
   "cell_type": "code",
   "execution_count": 10,
   "metadata": {},
   "outputs": [
    {
     "name": "stdout",
     "output_type": "stream",
     "text": [
      "18838\n",
      "792901\n"
     ]
    }
   ],
   "source": [
    "to_delete_edges = []\n",
    "for edge in G.edges():\n",
    "    if G.get_edge_data(*edge)['weight'] < 400:\n",
    "        to_delete_edges.append(edge)\n",
    "\n",
    "for item in to_delete_edges:\n",
    "    if G.has_edge(*item):\n",
    "        G.remove_edge(*item)\n",
    "\n",
    "to_delete_nodes = []\n",
    "for key in G:\n",
    "    if len(G[key])==0:\n",
    "        to_delete_nodes.append(key)\n",
    "        \n",
    "for item in to_delete_nodes:\n",
    "    G.remove_node(item)\n",
    "    \n",
    "print(G.number_of_nodes())\n",
    "print(G.number_of_edges())"
   ]
  },
  {
   "cell_type": "markdown",
   "metadata": {},
   "source": [
    "#### Remove all unnconnected nodes"
   ]
  },
  {
   "cell_type": "code",
   "execution_count": 11,
   "metadata": {},
   "outputs": [
    {
     "name": "stdout",
     "output_type": "stream",
     "text": [
      "18813\n"
     ]
    }
   ],
   "source": [
    "largest_cc = max(nx.connected_components(G), key=len)\n",
    "\n",
    "to_delete_unnconnected = []\n",
    "for key in G:\n",
    "    if key not in largest_cc:\n",
    "        to_delete_unnconnected.append(key)\n",
    "\n",
    "for node in to_delete_unnconnected:\n",
    "    G.remove_node(node)\n",
    "    \n",
    "print(G.number_of_nodes())"
   ]
  },
  {
   "cell_type": "markdown",
   "metadata": {},
   "source": [
    "#### Remove nodes with no edges"
   ]
  },
  {
   "cell_type": "code",
   "execution_count": 12,
   "metadata": {},
   "outputs": [
    {
     "name": "stdout",
     "output_type": "stream",
     "text": [
      "0\n"
     ]
    }
   ],
   "source": [
    "to_delete_no_edges = []\n",
    "for key in G:\n",
    "    if len(G[key]) == 0:\n",
    "        to_delete_no_edges.append(key)\n",
    "        \n",
    "print(len(to_delete_no_edges))"
   ]
  },
  {
   "cell_type": "markdown",
   "metadata": {},
   "source": [
    "## Extend the seed genes using DIAMOnD"
   ]
  },
  {
   "cell_type": "markdown",
   "metadata": {},
   "source": [
    "#### Import the seed genes"
   ]
  },
  {
   "cell_type": "code",
   "execution_count": 13,
   "metadata": {},
   "outputs": [
    {
     "name": "stdout",
     "output_type": "stream",
     "text": [
      "40\n"
     ]
    }
   ],
   "source": [
    "seed_file = 'seed_genes.tsv'\n",
    "seed_genes = set()\n",
    "for line in open(seed_file,'r'):\n",
    "    # the first column in the line will be interpreted as a seed gene:\n",
    "    line_data = line.strip().split('\\t')\n",
    "    seed_gene = line_data[0]\n",
    "    seed_genes.add(seed_gene)\n",
    "    \n",
    "print len(seed_genes)"
   ]
  },
  {
   "cell_type": "markdown",
   "metadata": {},
   "source": [
    "#### Ensure all the seed genes are in the network"
   ]
  },
  {
   "cell_type": "code",
   "execution_count": 14,
   "metadata": {},
   "outputs": [
    {
     "name": "stdout",
     "output_type": "stream",
     "text": [
      "0\n"
     ]
    }
   ],
   "source": [
    "all_genes_in_network = set(G.nodes())\n",
    "seed_genes = set(seed_genes)\n",
    "disease_genes = seed_genes & all_genes_in_network\n",
    "\n",
    "if len(disease_genes) != len(seed_genes):\n",
    "    print \"DIAMOnD(): ignoring %s of %s seed genes that are not in the network\" %(\n",
    "        len(seed_genes - all_genes_in_network), len(seed_genes))\n",
    "    \n",
    "print len(disease_genes) - len(seed_genes)"
   ]
  },
  {
   "cell_type": "markdown",
   "metadata": {},
   "source": [
    "#### Run DIAMOnD"
   ]
  },
  {
   "cell_type": "code",
   "execution_count": 15,
   "metadata": {},
   "outputs": [
    {
     "name": "stdout",
     "output_type": "stream",
     "text": [
      "200\n"
     ]
    }
   ],
   "source": [
    "import DIAMOnD\n",
    "\n",
    "max_number_of_added_nodes = 160\n",
    "alpha = 1\n",
    "\n",
    "added_nodes = DIAMOnD.diamond_iteration_of_first_X_nodes(G,disease_genes,max_number_of_added_nodes,alpha)\n",
    "added_nodes = [node[0] for node in added_nodes]\n",
    "\n",
    "ext_seed_genes = added_nodes + list(seed_genes)\n",
    "print len(ext_seed_genes)"
   ]
  },
  {
   "cell_type": "markdown",
   "metadata": {},
   "source": [
    "## Edit edges linked to seed genes"
   ]
  },
  {
   "cell_type": "markdown",
   "metadata": {},
   "source": [
    "#### Find edges linked to seed genes"
   ]
  },
  {
   "cell_type": "code",
   "execution_count": 18,
   "metadata": {},
   "outputs": [
    {
     "name": "stdout",
     "output_type": "stream",
     "text": [
      "72232\n"
     ]
    }
   ],
   "source": [
    "edge_list = nx.edges(G,ext_seed_genes)\n",
    "\n",
    "print(len(edge_list))"
   ]
  },
  {
   "cell_type": "markdown",
   "metadata": {},
   "source": [
    "#### Double the weights of edges connected to seed genes"
   ]
  },
  {
   "cell_type": "code",
   "execution_count": 22,
   "metadata": {
    "scrolled": true
   },
   "outputs": [],
   "source": [
    "for edge in edge_list:\n",
    "    G[edge[0]][edge[1]]['weight'] *= 2"
   ]
  },
  {
   "cell_type": "markdown",
   "metadata": {},
   "source": [
    "## Detect communities"
   ]
  },
  {
   "cell_type": "code",
   "execution_count": 1,
   "metadata": {},
   "outputs": [
    {
     "ename": "ImportError",
     "evalue": "No module named community",
     "output_type": "error",
     "traceback": [
      "\u001b[0;31m---------------------------------------------------------------------------\u001b[0m",
      "\u001b[0;31mImportError\u001b[0m                               Traceback (most recent call last)",
      "\u001b[0;32m<ipython-input-1-aa292e3db599>\u001b[0m in \u001b[0;36m<module>\u001b[0;34m()\u001b[0m\n\u001b[0;32m----> 1\u001b[0;31m \u001b[0;32mimport\u001b[0m \u001b[0mcommunity\u001b[0m\u001b[0;34m\u001b[0m\u001b[0m\n\u001b[0m\u001b[1;32m      2\u001b[0m \u001b[0;34m\u001b[0m\u001b[0m\n\u001b[1;32m      3\u001b[0m \u001b[0mstart\u001b[0m \u001b[0;34m=\u001b[0m \u001b[0mtimer\u001b[0m\u001b[0;34m(\u001b[0m\u001b[0;34m)\u001b[0m\u001b[0;34m\u001b[0m\u001b[0m\n\u001b[1;32m      4\u001b[0m \u001b[0mpartition\u001b[0m \u001b[0;34m=\u001b[0m \u001b[0mcommunity\u001b[0m\u001b[0;34m.\u001b[0m\u001b[0mbest_partition\u001b[0m\u001b[0;34m(\u001b[0m\u001b[0mG\u001b[0m\u001b[0;34m,\u001b[0m\u001b[0mweight\u001b[0m\u001b[0;34m=\u001b[0m\u001b[0;34m'weight'\u001b[0m\u001b[0;34m,\u001b[0m\u001b[0mresolution\u001b[0m\u001b[0;34m=\u001b[0m\u001b[0;36m0.2\u001b[0m\u001b[0;34m)\u001b[0m\u001b[0;34m\u001b[0m\u001b[0m\n\u001b[1;32m      5\u001b[0m \u001b[0mend\u001b[0m \u001b[0;34m=\u001b[0m \u001b[0mtimer\u001b[0m\u001b[0;34m(\u001b[0m\u001b[0;34m)\u001b[0m\u001b[0;34m\u001b[0m\u001b[0m\n",
      "\u001b[0;31mImportError\u001b[0m: No module named community"
     ]
    }
   ],
   "source": [
    "import community\n",
    "\n",
    "start = timer()\n",
    "partition = community.best_partition(G,weight='weight',resolution=0.2)\n",
    "end = timer()\n",
    "print(end - start)"
   ]
  },
  {
   "cell_type": "code",
   "execution_count": null,
   "metadata": {},
   "outputs": [],
   "source": []
  },
  {
   "cell_type": "code",
   "execution_count": null,
   "metadata": {},
   "outputs": [],
   "source": []
  },
  {
   "cell_type": "code",
   "execution_count": null,
   "metadata": {},
   "outputs": [],
   "source": []
  },
  {
   "cell_type": "markdown",
   "metadata": {},
   "source": [
    "# Testing"
   ]
  },
  {
   "cell_type": "code",
   "execution_count": 23,
   "metadata": {},
   "outputs": [
    {
     "name": "stdout",
     "output_type": "stream",
     "text": [
      "9606.ENSP00000395733\n",
      "<type 'str'>\n"
     ]
    }
   ],
   "source": [
    "counter = 0\n",
    "for key in G:\n",
    "    if counter is 0:\n",
    "        print key\n",
    "        print type(key)\n",
    "    counter = counter + 1"
   ]
  },
  {
   "cell_type": "code",
   "execution_count": 25,
   "metadata": {},
   "outputs": [
    {
     "ename": "TypeError",
     "evalue": "unhashable type",
     "output_type": "error",
     "traceback": [
      "\u001b[0;31m---------------------------------------------------------------------------\u001b[0m",
      "\u001b[0;31mTypeError\u001b[0m                                 Traceback (most recent call last)",
      "\u001b[0;32m<ipython-input-25-32851ac62a8f>\u001b[0m in \u001b[0;36m<module>\u001b[0;34m()\u001b[0m\n\u001b[0;32m----> 1\u001b[0;31m \u001b[0mG\u001b[0m\u001b[0;34m[\u001b[0m\u001b[0;34m'9606.ENSP00000395733'\u001b[0m\u001b[0;34m]\u001b[0m\u001b[0;34m[\u001b[0m\u001b[0;34m:\u001b[0m\u001b[0;34m]\u001b[0m\u001b[0;34m[\u001b[0m\u001b[0mweight\u001b[0m \u001b[0;34m]\u001b[0m\u001b[0;34m\u001b[0m\u001b[0m\n\u001b[0m",
      "\u001b[0;32m/Users/clhastings/.virtualenvs/PPI-network/lib/python2.7/site-packages/networkx/classes/coreviews.pyc\u001b[0m in \u001b[0;36m__getitem__\u001b[0;34m(self, key)\u001b[0m\n\u001b[1;32m     53\u001b[0m \u001b[0;34m\u001b[0m\u001b[0m\n\u001b[1;32m     54\u001b[0m     \u001b[0;32mdef\u001b[0m \u001b[0m__getitem__\u001b[0m\u001b[0;34m(\u001b[0m\u001b[0mself\u001b[0m\u001b[0;34m,\u001b[0m \u001b[0mkey\u001b[0m\u001b[0;34m)\u001b[0m\u001b[0;34m:\u001b[0m\u001b[0;34m\u001b[0m\u001b[0m\n\u001b[0;32m---> 55\u001b[0;31m         \u001b[0;32mreturn\u001b[0m \u001b[0mself\u001b[0m\u001b[0;34m.\u001b[0m\u001b[0m_atlas\u001b[0m\u001b[0;34m[\u001b[0m\u001b[0mkey\u001b[0m\u001b[0;34m]\u001b[0m\u001b[0;34m\u001b[0m\u001b[0m\n\u001b[0m\u001b[1;32m     56\u001b[0m \u001b[0;34m\u001b[0m\u001b[0m\n\u001b[1;32m     57\u001b[0m     \u001b[0;32mdef\u001b[0m \u001b[0mcopy\u001b[0m\u001b[0;34m(\u001b[0m\u001b[0mself\u001b[0m\u001b[0;34m)\u001b[0m\u001b[0;34m:\u001b[0m\u001b[0;34m\u001b[0m\u001b[0m\n",
      "\u001b[0;31mTypeError\u001b[0m: unhashable type"
     ]
    }
   ],
   "source": [
    "G['9606.ENSP00000395733'][:][weight ]"
   ]
  },
  {
   "cell_type": "code",
   "execution_count": null,
   "metadata": {},
   "outputs": [],
   "source": [
    "counter = 0\n",
    "for item in genes:\n",
    "    if G.has_node(item):\n",
    "        counter += 1\n",
    "        \n",
    "print(counter)"
   ]
  },
  {
   "cell_type": "code",
   "execution_count": 15,
   "metadata": {},
   "outputs": [
    {
     "name": "stdout",
     "output_type": "stream",
     "text": [
      "('9606.ENSP00000395733', '9606.ENSP00000332454')\n",
      "509\n"
     ]
    }
   ],
   "source": [
    "counter = 0\n",
    "for edge in G.edges():\n",
    "    if counter is 0:\n",
    "        print edge\n",
    "    counter = counter + 1\n",
    "    \n",
    "print G.edges['9606.ENSP00000395733','9606.ENSP00000332454']['weight']"
   ]
  },
  {
   "cell_type": "code",
   "execution_count": 5,
   "metadata": {},
   "outputs": [
    {
     "ename": "ImportError",
     "evalue": "No module named community",
     "output_type": "error",
     "traceback": [
      "\u001b[0;31m---------------------------------------------------------------------------\u001b[0m",
      "\u001b[0;31mImportError\u001b[0m                               Traceback (most recent call last)",
      "\u001b[0;32m<ipython-input-5-29a31db00ec5>\u001b[0m in \u001b[0;36m<module>\u001b[0;34m()\u001b[0m\n\u001b[0;32m----> 1\u001b[0;31m \u001b[0;32mimport\u001b[0m \u001b[0mcommunity\u001b[0m\u001b[0;34m\u001b[0m\u001b[0m\n\u001b[0m",
      "\u001b[0;31mImportError\u001b[0m: No module named community"
     ]
    }
   ],
   "source": [
    "import community"
   ]
  },
  {
   "cell_type": "code",
   "execution_count": 4,
   "metadata": {},
   "outputs": [
    {
     "name": "stdout",
     "output_type": "stream",
     "text": [
      "2.7.13 (default, Apr  4 2017, 08:47:57) \n",
      "[GCC 4.2.1 Compatible Apple LLVM 8.1.0 (clang-802.0.38)]\n",
      "\n",
      "Please wait a moment while I gather a list of all available modules...\n",
      "\n"
     ]
    },
    {
     "name": "stderr",
     "output_type": "stream",
     "text": [
      "/Users/clhastings/.virtualenvs/PPI-network/lib/python2.7/site-packages/IPython/kernel/__init__.py:13: ShimWarning: The `IPython.kernel` package has been deprecated since IPython 4.0.You should import from ipykernel or jupyter_client instead.\n",
      "  \"You should import from ipykernel or jupyter_client instead.\", ShimWarning)\n"
     ]
    },
    {
     "name": "stdout",
     "output_type": "stream",
     "text": [
      "Audio_mac           _sqlite3            gensuitemodule      resource\n",
      "BaseHTTPServer      _sre                gestalt             rexec\n",
      "Bastion             _ssl                getopt              rfc822\n",
      "CGIHTTPServer       _strptime           getpass             rlcompleter\n",
      "Canvas              _struct             gettext             rmagic\n",
      "Carbon              _symtable           glob                robotparser\n",
      "CodeWarrior         _sysconfigdata      grp                 runpy\n",
      "ColorPicker         _testcapi           gzip                scandir\n",
      "ConfigParser        _threading_local    hashlib             sched\n",
      "Cookie              _tkinter            heapq               scipy\n",
      "Dialog              _warnings           hmac                select\n",
      "DocXMLRPCServer     _weakref            hotshot             sets\n",
      "EasyDialogs         _weakrefset         htmlentitydefs      setuptools\n",
      "Explorer            abc                 htmllib             sgmllib\n",
      "FileDialog          aepack              httplib             sha\n",
      "Finder              aetools             ic                  shelve\n",
      "FixTk               aetypes             icglue              shlex\n",
      "FrameWork           aifc                icopen              shutil\n",
      "HTMLParser          antigravity         idlelib             shutil_backports\n",
      "IN                  anydbm              idna                signal\n",
      "IPython             applesingle         ihooks              simplegeneric\n",
      "MacOS               appletrawmain       imaplib             singledispatch\n",
      "MimeWriter          appletrunner        imghdr              singledispatch_helpers\n",
      "MiniAEFrame         appnope             imp                 site\n",
      "Nav                 argparse            importlib           six\n",
      "Netscape            argvemulator        imputil             smtpd\n",
      "OSATerminology      array               inspect             smtplib\n",
      "PixMapWrapper       ast                 io                  sndhdr\n",
      "Queue               asynchat            ipykernel           socket\n",
      "ScrolledText        asyncore            ipykernel_launcher  sqlite3\n",
      "SimpleDialog        atexit              ipython_genutils    sre\n",
      "SimpleHTTPServer    audiodev            itertools           sre_compile\n",
      "SimpleXMLRPCServer  audioop             json                sre_constants\n",
      "SocketServer        autoGIL             jupyter             sre_parse\n",
      "StdSuites           autoreload          jupyter_client      ssl\n",
      "StringIO            backports           jupyter_core        stat\n",
      "SystemEvents        backports_abc       keyword             statvfs\n",
      "Terminal            base64              lib2to3             storemagic\n",
      "Tix                 bdb                 linecache           string\n",
      "Tkconstants         bgenlocations       locale              stringold\n",
      "Tkdnd               binascii            logging             stringprep\n",
      "Tkinter             binhex              macerrors           strop\n",
      "UserDict            bisect              macostools          struct\n",
      "UserList            bsddb               macpath             subprocess\n",
      "UserString          bsddb185            macresource         sunau\n",
      "_AE                 buildtools          macurl2path         sunaudio\n",
      "_AH                 bundlebuilder       mailbox             symbol\n",
      "_App                bz2                 mailcap             sympyprinting\n",
      "_CF                 cPickle             markupbase          symtable\n",
      "_CG                 cProfile            marshal             sys\n",
      "_CarbonEvt          cStringIO           math                sysconfig\n",
      "_Cm                 calendar            md5                 syslog\n",
      "_Ctl                certifi             mhlib               tabnanny\n",
      "_Dlg                cfmfile             mimetools           tarfile\n",
      "_Drag               cgi                 mimetypes           telnetlib\n",
      "_Evt                cgitb               mimify              tempfile\n",
      "_File               chardet             mmap                terminalcommand\n",
      "_Fm                 chunk               modulefinder        termios\n",
      "_Folder             cmath               multifile           test\n",
      "_Help               cmd                 multiprocessing     tests\n",
      "_IBCarbon           code                mutex               textwrap\n",
      "_Icn                codecs              netrc               this\n",
      "_LWPCookieJar       codeop              networkx            thread\n",
      "_Launch             collections         new                 threading\n",
      "_List               colorsys            nis                 time\n",
      "_Menu               commands            nntplib             timeit\n",
      "_Mlte               compileall          ntpath              tkColorChooser\n",
      "_MozillaCookieJar   compiler            nturl2path          tkCommonDialog\n",
      "_OSA                concurrent          numbers             tkFileDialog\n",
      "_Qd                 contextlib          numpy               tkFont\n",
      "_Qdoffs             cookielib           opcode              tkMessageBox\n",
      "_Qt                 copy                operator            tkSimpleDialog\n",
      "_Res                copy_reg            optparse            toaiff\n",
      "_Scrap              crypt               os                  token\n",
      "_Snd                csv                 os2emxpath          tokenize\n",
      "_TE                 ctypes              parser              tornado\n",
      "_Win                curses              pathlib2            trace\n",
      "__builtin__         cythonmagic         pdb                 traceback\n",
      "__future__          datetime            pexpect             traitlets\n",
      "_abcoll             dateutil            pickle              ttk\n",
      "_ast                dbhash              pickleshare         tty\n",
      "_bisect             dbm                 pickletools         turtle\n",
      "_builtinSuites      decimal             pimp                types\n",
      "_codecs             decorator           pip                 unicodedata\n",
      "_codecs_cn          difflib             pipes               unittest\n",
      "_codecs_hk          dircache            pkg_resources       urllib\n",
      "_codecs_iso2022     dis                 pkgutil             urllib2\n",
      "_codecs_jp          distutils           platform            urllib3\n",
      "_codecs_kr          doctest             plistlib            urlparse\n",
      "_codecs_tw          dumbdbm             popen2              user\n",
      "_collections        dummy_thread        poplib              uu\n",
      "_csv                dummy_threading     posix               uuid\n",
      "_ctypes             easy_install        posixfile           videoreader\n",
      "_ctypes_test        email               posixpath           warnings\n",
      "_curses             encodings           pprint              wave\n",
      "_curses_panel       ensurepip           profile             wcwidth\n",
      "_elementtree        enum                prompt_toolkit      weakref\n",
      "_functools          errno               pstats              webbrowser\n",
      "_hashlib            exceptions          pty                 wheel\n",
      "_heapq              fcntl               ptyprocess          whichdb\n",
      "_hotshot            filecmp             pwd                 wsgiref\n",
      "_io                 fileinput           py_compile          xdrlib\n",
      "_json               findertools         pyclbr              xml\n",
      "_locale             fnmatch             pydoc               xmllib\n",
      "_lsprof             formatter           pydoc_data          xmlrpclib\n",
      "_multibytecodec     fpformat            pyexpat             xxsubtype\n",
      "_multiprocessing    fractions           pygments            zipfile\n",
      "_osx_support        ftplib              quopri              zipimport\n",
      "_pyio               functools           random              zlib\n",
      "_random             future_builtins     re                  zmq\n",
      "_scandir            gc                  readline            \n",
      "_scproxy            gdbm                repr                \n",
      "_socket             genericpath         requests            \n",
      "\n",
      "Enter any module name to get more help.  Or, type \"modules spam\" to search\n",
      "for modules whose descriptions contain the word \"spam\".\n",
      "\n"
     ]
    },
    {
     "name": "stderr",
     "output_type": "stream",
     "text": [
      "/usr/local/Cellar/python/2.7.13/Frameworks/Python.framework/Versions/2.7/lib/python2.7/pkgutil.py:125: VisibleDeprecationWarning: zmq.eventloop.minitornado is deprecated in pyzmq 14.0 and will be removed.\n",
      "    Install tornado itself to use zmq with the tornado IOLoop.\n",
      "    \n",
      "  for item in walk_packages(path, name+'.', onerror):\n"
     ]
    }
   ],
   "source": [
    "import sys\n",
    "print(sys.version)\n",
    "\n",
    "help('modules')"
   ]
  },
  {
   "cell_type": "code",
   "execution_count": null,
   "metadata": {},
   "outputs": [],
   "source": []
  }
 ],
 "metadata": {
  "kernelspec": {
   "display_name": "PPI-network",
   "language": "python",
   "name": "ppi-network"
  },
  "language_info": {
   "codemirror_mode": {
    "name": "ipython",
    "version": 2
   },
   "file_extension": ".py",
   "mimetype": "text/x-python",
   "name": "python",
   "nbconvert_exporter": "python",
   "pygments_lexer": "ipython2",
   "version": "2.7.13"
  }
 },
 "nbformat": 4,
 "nbformat_minor": 2
}
